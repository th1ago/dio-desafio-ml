{
 "cells": [
  {
   "cell_type": "code",
   "execution_count": 1,
   "metadata": {},
   "outputs": [],
   "source": [
    "import numpy as np\n",
    "import torch\n",
    "import torch.nn.functional as F\n",
    "import torchvision\n",
    "import matplotlib.pyplot as plt\n",
    "# valores de tempo de execucao da rede\n",
    "from time import time \n",
    "from torchvision import datasets, transforms\n",
    "from torch import nn, optim"
   ]
  },
  {
   "cell_type": "code",
   "execution_count": 2,
   "metadata": {},
   "outputs": [],
   "source": [
    "transform = transforms.ToTensor() #definindo a conversao de imagem para tensor\n",
    "\n",
    "trainset = datasets.MNIST('./MNIST_data/', download=True, train=True, transform=transform) #carrega a parte de treino do datasets\n",
    "trainloader = torch.utils.data.DataLoader(trainset, batch_size=64, shuffle=True) #carrega um buffer para pegar os dados por partes\n",
    "\n",
    "valset = datasets.MNIST('./MNIST_data/', download=True, train=True, transform=transform) #carrega a parte de validacao do dataset\n",
    "valloader = torch.utils.data.DataLoader(trainset, batch_size=64, shuffle=True) #cria buffer para pegar os dados por partes\n"
   ]
  },
  {
   "cell_type": "code",
   "execution_count": 3,
   "metadata": {},
   "outputs": [
    {
     "data": {
      "text/plain": [
       "<matplotlib.image.AxesImage at 0x20cef44bbe0>"
      ]
     },
     "execution_count": 3,
     "metadata": {},
     "output_type": "execute_result"
    },
    {
     "data": {
      "image/png": "[encoded data removed]",
      "text/plain": [
       "<Figure size 640x480 with 1 Axes>"
      ]
     },
     "metadata": {},
     "output_type": "display_data"
    }
   ],
   "source": [
    "dataiter = iter(trainloader)\n",
    "imagens, etiquetas = next(dataiter)\n",
    "plt.imshow(imagens[0].numpy().squeeze(), cmap='gray_r')"
   ]
  },
  {
   "cell_type": "code",
   "execution_count": 4,
   "metadata": {},
   "outputs": [
    {
     "name": "stdout",
     "output_type": "stream",
     "text": [
      "torch.Size([1, 28, 28])\n",
      "torch.Size([])\n"
     ]
    }
   ],
   "source": [
    "print(imagens[0].shape) #para verificar as dimensoes do tensor de cada imagem\n",
    "print(etiquetas[0].shape) #para verificar as dimensoes do tensor de cada etiqueta"
   ]
  },
  {
   "cell_type": "code",
   "execution_count": null,
   "metadata": {},
   "outputs": [],
   "source": [
    "class MOdelo(nn.Module):\n",
    "    def __init__(self) -> None:\n",
    "        super(Modelo, self).__init__()\n",
    "        self.linear1 = nn.Linear(28*28, 128) #camada de entrada, 784 neuronios que se ligam a 128\n",
    "        self.linear2 = nn.Linear(28*28, 128) #camada interna 1, 128 neuronios que se ligam a 63\n",
    "        self.linear3 = nn.Linear(28*28, 128) #camada interna 2, 64 neuronios que se ligam a 10\n",
    "        #para a camada de saida nao e necessario definir nada pois so precisam pegar o output da camada interna 2\n",
    "\n",
    "    def foward(self, X):\n",
    "        X = F.relu(self.linear1(X)) #funcao de ativacao da camada de entrada para a camada interna 1\n",
    "        X = F.relu(self.linear2(X)) #funcao de ativacao da camada interna 1 para a camada interna 2\n",
    "        X = self.linear3(X) #funcao de ativacao da camada interna 2 para a camada de saida, nesse caso f(x) = x\n",
    "        return F.log_softmax(X, dim=1) #dados utilizado para calcular a perda"
   ]
  }
 ],
 "metadata": {
  "kernelspec": {
   "display_name": "Python 3.10.6 64-bit",
   "language": "python",
   "name": "python3"
  },
  "language_info": {
   "codemirror_mode": {
    "name": "ipython",
    "version": 3
   },
   "file_extension": ".py",
   "mimetype": "text/x-python",
   "name": "python",
   "nbconvert_exporter": "python",
   "pygments_lexer": "ipython3",
   "version": "3.10.6"
  },
  "orig_nbformat": 4,
  "vscode": {
   "interpreter": {
    "hash": "336295d508b094686eaf9f75dae8800c5c8c863f253658ee66d2acca65590102"
   }
  }
 },
 "nbformat": 4,
 "nbformat_minor": 2
}
